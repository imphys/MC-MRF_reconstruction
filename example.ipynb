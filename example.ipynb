{
 "cells": [
  {
   "cell_type": "markdown",
   "id": "3bbb34fc",
   "metadata": {},
   "source": [
    "# Example script"
   ]
  },
  {
   "cell_type": "markdown",
   "id": "7ae09cfa",
   "metadata": {},
   "source": [
    "Example script to show how to use the proposed MRF reconstruction."
   ]
  },
  {
   "cell_type": "code",
   "execution_count": null,
   "id": "fd362938",
   "metadata": {},
   "outputs": [],
   "source": [
    "import h5py\n",
    "\n",
    "from MRFrecon import MrfData"
   ]
  },
  {
   "cell_type": "markdown",
   "id": "6591bb55",
   "metadata": {},
   "source": [
    "## Load data\n",
    "First download the data from location as specified in ``example_data/readme.txt``.\n",
    "\n",
    "### Load data from numerical phantom"
   ]
  },
  {
   "cell_type": "code",
   "execution_count": null,
   "id": "8135fb1f",
   "metadata": {},
   "outputs": [],
   "source": [
    "with h5py.File(r'example_data/num_phantom.h5', 'r') as hf:\n",
    "    print(hf.keys())\n",
    "    ksp = hf.get('kspace')[:]\n",
    "    coord = hf.get('coord')[:]\n",
    "\n",
    "# Load dictionary\n",
    "with h5py.File(r'example_data/dictionary.h5', 'r') as hf:\n",
    "    dictmat = hf.get('dictmat')[:].T.imag\n",
    "    dictt1 = hf.get('t1list')[:]\n",
    "    dictt2 = hf.get('t2list')[:]"
   ]
  },
  {
   "cell_type": "markdown",
   "id": "21a9db0b",
   "metadata": {},
   "source": [
    "### Create the data class"
   ]
  },
  {
   "cell_type": "code",
   "execution_count": null,
   "id": "ac6646d1",
   "metadata": {},
   "outputs": [],
   "source": [
    "data = MrfData()\n",
    "data.ksp = ksp\n",
    "data.coord = coord\n",
    "data.dictmat = dictmat\n",
    "data.dictt1 = dictt1\n",
    "data.dictt2 = dictt2"
   ]
  },
  {
   "cell_type": "code",
   "execution_count": null,
   "id": "a0adc450",
   "metadata": {},
   "outputs": [],
   "source": [
    "# equivalent to:\n",
    "# data = MrfData(ksp, coord, dictmat, dictt1, dictt2)"
   ]
  },
  {
   "cell_type": "code",
   "execution_count": null,
   "id": "a5deabea-9674-4339-992d-e292f2ed30e3",
   "metadata": {},
   "outputs": [],
   "source": [
    "# make 2 copies\n",
    "data2 = data.copy()"
   ]
  },
  {
   "cell_type": "code",
   "execution_count": null,
   "id": "ac4a5fa8-2cfb-4250-b8c2-fa8a156d1566",
   "metadata": {},
   "outputs": [],
   "source": [
    "data3 = data.copy()"
   ]
  },
  {
   "cell_type": "markdown",
   "id": "66ccf8dc",
   "metadata": {},
   "source": [
    "# Solve LR inversion with single component matching"
   ]
  },
  {
   "cell_type": "code",
   "execution_count": null,
   "id": "64849712",
   "metadata": {},
   "outputs": [],
   "source": [
    "# very similar to (slightly different settings)\n",
    "#       recon_lr_invert(data, settings=load_settings('./example_data/config.ini',0))"
   ]
  },
  {
   "cell_type": "code",
   "execution_count": null,
   "id": "83e4a834",
   "metadata": {},
   "outputs": [],
   "source": [
    "# compress dictionary to rank 10\n",
    "data.compress_dictionary(10)"
   ]
  },
  {
   "cell_type": "code",
   "execution_count": null,
   "id": "7c2e7a8a",
   "metadata": {},
   "outputs": [],
   "source": [
    "# Set the compute device, 0 is a GPU\n",
    "compute_device = 0"
   ]
  },
  {
   "cell_type": "code",
   "execution_count": null,
   "id": "cb0588f2",
   "metadata": {},
   "outputs": [],
   "source": [
    "# Espirit calc for sensitivity maps, with reconstruction matrix of size 256x256\n",
    "data.mrf_espirit(256, compute_device=compute_device, tol_fac=.005, )"
   ]
  },
  {
   "cell_type": "code",
   "execution_count": null,
   "id": "4e17b721",
   "metadata": {},
   "outputs": [],
   "source": [
    "# compress data to 5 virtual coils\n",
    "data.coil_compression(5)"
   ]
  },
  {
   "cell_type": "code",
   "execution_count": null,
   "id": "417b4230",
   "metadata": {},
   "outputs": [],
   "source": [
    "# Low rank inversion image reconstruction\n",
    "data.lr_inversion(compute_device=compute_device, tol_fac=.005, )"
   ]
  },
  {
   "cell_type": "code",
   "execution_count": null,
   "id": "53a632bb",
   "metadata": {},
   "outputs": [],
   "source": [
    "# rotate image sequence to real axis\n",
    "data.rotate2real()"
   ]
  },
  {
   "cell_type": "code",
   "execution_count": null,
   "id": "f511458e",
   "metadata": {},
   "outputs": [],
   "source": [
    "# Solve for single component MRF\n",
    "data.single_component_match(verbose=2) # Verbose is 2 creates plots"
   ]
  },
  {
   "cell_type": "code",
   "execution_count": null,
   "id": "66c1a21c",
   "metadata": {},
   "outputs": [],
   "source": [
    "# Save to .h5\n",
    "data.to_h5('./example_data/', 'lr_inv_single.h5')"
   ]
  },
  {
   "cell_type": "markdown",
   "id": "b4d49784",
   "metadata": {},
   "source": [
    "# Solve LR ADMM with SPIJN component reconstruction"
   ]
  },
  {
   "cell_type": "code",
   "execution_count": null,
   "id": "ee92ac83-dcb4-47c2-b44a-acf5d64fa87a",
   "metadata": {},
   "outputs": [],
   "source": [
    "# very similar to (slightly different settings)\n",
    "# recon_admm_into_spijn(data, settings=load_settings('./example_data/config.ini',2))"
   ]
  },
  {
   "cell_type": "code",
   "execution_count": null,
   "id": "21131655-88f6-4291-86b9-1244865efcf1",
   "metadata": {},
   "outputs": [],
   "source": [
    "# compress dictionary to rank 10\n",
    "data2.compress_dictionary(10)"
   ]
  },
  {
   "cell_type": "code",
   "execution_count": null,
   "id": "1b3bd29d-a6bd-4edf-8402-3fc8e8c6c214",
   "metadata": {},
   "outputs": [],
   "source": [
    "# Espirit calc for sensitivity maps, with reconstruction matrix of size 256\n",
    "data2.mrf_espirit(256, compute_device=compute_device)"
   ]
  },
  {
   "cell_type": "code",
   "execution_count": null,
   "id": "6270b274-9795-4874-98e0-8c3076095cb3",
   "metadata": {},
   "outputs": [],
   "source": [
    "# compress data to 5 virtual coils\n",
    "data2.coil_compression(5)"
   ]
  },
  {
   "cell_type": "code",
   "execution_count": null,
   "id": "c316742e-29d1-4236-84ee-d61ecd306117",
   "metadata": {},
   "outputs": [],
   "source": [
    "# Low rank admm image reconstruction\n",
    "data2.lr_admm(2e-3, compute_device=compute_device, n_jobs=1, max_iter=5, max_cg_iter=50,\n",
    "              tol_fac=0.001, lstsq_solver = 'PrimalDualHybridGradient')\n",
    "# Note: low rank admm does not need rotate2real()!"
   ]
  },
  {
   "cell_type": "code",
   "execution_count": null,
   "id": "756c23d4-70ba-4be6-8d74-cab75484b2b9",
   "metadata": {},
   "outputs": [],
   "source": [
    "# Solve for components with a joint sparse regularization parameter of 0.3\n",
    "data2.spijn_solve(0.3, verbose=2, n_jobs=4)"
   ]
  },
  {
   "cell_type": "code",
   "execution_count": null,
   "id": "3b94446c-8435-47e2-982f-8a3e33b436b6",
   "metadata": {},
   "outputs": [],
   "source": [
    "# Save to .h5\n",
    "data2.to_h5('./example_data/', 'lr_admm_spijn.h5')"
   ]
  },
  {
   "cell_type": "markdown",
   "id": "1bd8837f-269b-4b5b-be8d-2ef07ef841d4",
   "metadata": {},
   "source": [
    "# k-SPIJN direct MC-MRF reconstruction"
   ]
  },
  {
   "cell_type": "code",
   "execution_count": null,
   "id": "0983b4de-b8ec-4f40-a2eb-6e6196d61ee3",
   "metadata": {},
   "outputs": [],
   "source": [
    "# very similar to (slightly different settings)\n",
    "# recon_admm_into_spijn(data, settings=load_settings('./example_data/config.ini',1))"
   ]
  },
  {
   "cell_type": "code",
   "execution_count": null,
   "id": "7b960640-302e-4c54-a16f-f8576b336132",
   "metadata": {},
   "outputs": [],
   "source": [
    "# compress dictionary to rank 10\n",
    "data3.compress_dictionary(10)"
   ]
  },
  {
   "cell_type": "code",
   "execution_count": null,
   "id": "6b07a4ec-7784-49a6-9863-fb687773bbea",
   "metadata": {},
   "outputs": [],
   "source": [
    "# Espirit calc for sensitivity maps, with reconstruction matrix of size 256\n",
    "data3.mrf_espirit(256, compute_device=compute_device)"
   ]
  },
  {
   "cell_type": "code",
   "execution_count": null,
   "id": "89c8dd8e-a5e2-49e1-83ad-f39448df0988",
   "metadata": {},
   "outputs": [],
   "source": [
    "# compress data to 5 virtual coils\n",
    "data3.coil_compression(5)"
   ]
  },
  {
   "cell_type": "code",
   "execution_count": null,
   "id": "d0ffdaab-2f46-4708-b04c-b8071f89e0a9",
   "metadata": {},
   "outputs": [],
   "source": [
    "# Direct component reconstruction\n",
    "data3.spijn_from_ksp(admm_param=2e-3, reg_param=0.1,\n",
    "                     compute_device=compute_device, verbose=2, n_jobs=1, \n",
    "                     tol_fac=.001, tol=1e-3)"
   ]
  },
  {
   "cell_type": "code",
   "execution_count": null,
   "id": "e6eee3d9-2a69-4424-a5e6-a6f5dc4ab9d4",
   "metadata": {},
   "outputs": [],
   "source": [
    "data3.plot_comp()"
   ]
  },
  {
   "cell_type": "raw",
   "id": "8119711b-bffb-43b1-a7ef-a873a89f0bb0",
   "metadata": {},
   "source": [
    "# Save to .h5\n",
    "data3.to_h5('./example_data/', 'direct.h5')"
   ]
  }
 ],
 "metadata": {
  "kernelspec": {
   "display_name": "Python 3 (ipykernel)",
   "language": "python",
   "name": "python3"
  },
  "language_info": {
   "codemirror_mode": {
    "name": "ipython",
    "version": 3
   },
   "file_extension": ".py",
   "mimetype": "text/x-python",
   "name": "python",
   "nbconvert_exporter": "python",
   "pygments_lexer": "ipython3",
   "version": "3.7.10"
  }
 },
 "nbformat": 4,
 "nbformat_minor": 5
}
